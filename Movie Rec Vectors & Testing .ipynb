{
 "cells": [
  {
   "cell_type": "code",
   "execution_count": 3,
   "id": "fc222d3f-efe3-42fa-acf8-08e25bedd45e",
   "metadata": {},
   "outputs": [
    {
     "name": "stdout",
     "output_type": "stream",
     "text": [
      "   Unnamed: 0     id        genre_ids                        title  \\\n",
      "0           0    238         [18, 80]                the godfather   \n",
      "1           1    278         [18, 80]     the shawshank redemption   \n",
      "2           2    240         [18, 80]        the godfather part ii   \n",
      "3           3    424  [18, 36, 10752]             schindler's list   \n",
      "4           4  19404  [35, 18, 10749]  dilwale dulhania le jayenge   \n",
      "\n",
      "                                            overview  popularity release_date  \\\n",
      "0  Spanning the years 1945 to 1955, a chronicle o...     119.438    3/14/1972   \n",
      "1  Framed in the 1940s for the double murder of h...      90.415    9/23/1994   \n",
      "2  In the continuing saga of the Corleone crime f...      70.637   12/20/1974   \n",
      "3  The true story of how businessman Oskar Schind...      48.096   12/15/1993   \n",
      "4  Raj is a rich, carefree, happy-go-lucky second...      26.588   10/20/1995   \n",
      "\n",
      "   vote_average  vote_count  \n",
      "0           8.7       18448  \n",
      "1           8.7       24376  \n",
      "2           8.6       11144  \n",
      "3           8.6       14421  \n",
      "4           8.6        4225  \n"
     ]
    }
   ],
   "source": [
    "import pandas as pd\n",
    "\n",
    "# Load the CSV file\n",
    "file_path = \"C:/Users/user/Downloads/Movies_cleaned.csv\"\n",
    "df = pd.read_csv(file_path)\n",
    "\n",
    "# Display the first few rows to verify data\n",
    "print(df.head())\n",
    "\n"
   ]
  },
  {
   "cell_type": "code",
   "execution_count": 5,
   "id": "a5d57efa-3c86-46fc-a725-1ab2d68c9d44",
   "metadata": {},
   "outputs": [
    {
     "name": "stdout",
     "output_type": "stream",
     "text": [
      "TF-IDF matrix shape: (10000, 27828)\n"
     ]
    }
   ],
   "source": [
    "from sklearn.feature_extraction.text import TfidfVectorizer\n",
    "\n",
    "# Initialize TF-IDF Vectorizer for `overview`\n",
    "tfidf_vectorizer = TfidfVectorizer(stop_words='english')\n",
    "tfidf_matrix = tfidf_vectorizer.fit_transform(df['overview'].fillna(''))  # Handle NaN values with an empty string\n",
    "\n",
    "# Check the shape of the matrix to ensure correct vectorization\n",
    "print(\"TF-IDF matrix shape:\", tfidf_matrix.shape)\n"
   ]
  },
  {
   "cell_type": "code",
   "execution_count": 7,
   "id": "fdf69d3f-f0e7-494c-bc04-b8cd65c480c1",
   "metadata": {},
   "outputs": [],
   "source": [
    "from sklearn.metrics.pairwise import cosine_similarity\n",
    "\n",
    "# Calculate cosine similarity matrix\n",
    "cosine_sim = cosine_similarity(tfidf_matrix, tfidf_matrix)\n"
   ]
  },
  {
   "cell_type": "code",
   "execution_count": 35,
   "id": "eb958455-0048-43f2-8ee5-3e41bc2dd93f",
   "metadata": {},
   "outputs": [],
   "source": [
    "def recommend_movies(title, cosine_sim=cosine_sim, df=df, top_n=10):\n",
    "    # Ensure the title exists in the dataset\n",
    "    if title not in df['title'].values:\n",
    "        return \"Movie title not found.\"\n",
    "\n",
    "    # Get the index of the movie that matches the title\n",
    "    idx = df[df['title'] == title].index[0]\n",
    "\n",
    "    # Get pairwise similarity scores of all movies with that movie\n",
    "    similarity_scores = list(enumerate(cosine_sim[idx]))\n",
    "\n",
    "    # Sort the movies based on the similarity scores\n",
    "    similarity_scores = sorted(similarity_scores, key=lambda x: x[1], reverse=True)\n",
    "\n",
    "    # Get the indices of the top-n most similar movies\n",
    "    movie_indices = [i[0] for i in similarity_scores[1:top_n+1]]  # Skip the first item (self-similarity)\n",
    "\n",
    "    # Return the top-n most similar movies\n",
    "    return df[['title', 'popularity', 'release_date']].iloc[movie_indices]\n"
   ]
  },
  {
   "cell_type": "code",
   "execution_count": 49,
   "id": "aff35b15-2991-402a-b8a6-3b5db9101f5c",
   "metadata": {},
   "outputs": [
    {
     "name": "stdout",
     "output_type": "stream",
     "text": [
      "                     title  popularity release_date\n",
      "1936   a twelve-year night       8.236    9/20/2018\n",
      "7917        bird on a wire      12.103    5/18/1990\n",
      "3054  death and the maiden       8.908     5/4/1994\n",
      "2099               martyrs      19.355     9/3/2008\n",
      "9313        child's play 3      26.665    8/30/1991\n"
     ]
    }
   ],
   "source": [
    "# Example recommendation\n",
    "recommendations = recommend_movies(\"oldboy\", top_n=5)\n",
    "print(recommendations)\n",
    "\n"
   ]
  },
  {
   "cell_type": "code",
   "execution_count": 39,
   "id": "bd96d06e-355d-4031-b3be-ed00fedf9e84",
   "metadata": {},
   "outputs": [],
   "source": [
    "from sklearn.preprocessing import MinMaxScaler\n",
    "import numpy as np\n",
    "\n",
    "# Scale `vote_average` and `popularity` for combining with cosine similarity\n",
    "scaler = MinMaxScaler()\n",
    "df[['scaled_vote', 'scaled_popularity']] = scaler.fit_transform(df[['vote_average', 'popularity']])\n",
    "\n",
    "# Combine cosine similarity with other numeric features\n",
    "similarity_combined = 0.5 * cosine_sim + 0.25 * df['scaled_vote'].values[:, None] + 0.25 * df['scaled_popularity'].values[:, None]\n"
   ]
  },
  {
   "cell_type": "code",
   "execution_count": null,
   "id": "68a5383f-2561-473e-bd4a-73b9a13bb8ee",
   "metadata": {},
   "outputs": [],
   "source": []
  }
 ],
 "metadata": {
  "kernelspec": {
   "display_name": "Python 3 (ipykernel)",
   "language": "python",
   "name": "python3"
  },
  "language_info": {
   "codemirror_mode": {
    "name": "ipython",
    "version": 3
   },
   "file_extension": ".py",
   "mimetype": "text/x-python",
   "name": "python",
   "nbconvert_exporter": "python",
   "pygments_lexer": "ipython3",
   "version": "3.12.4"
  }
 },
 "nbformat": 4,
 "nbformat_minor": 5
}
