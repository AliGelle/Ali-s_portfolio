{
 "cells": [
  {
   "cell_type": "code",
   "execution_count": 1,
   "id": "5fe4c59f-806a-4b3b-b560-30746992aead",
   "metadata": {},
   "outputs": [],
   "source": [
    "import pandas as pd\n",
    "import numpy as np"
   ]
  },
  {
   "cell_type": "code",
   "execution_count": 3,
   "id": "81c6ba0c-f26d-407e-aa64-19b0be059606",
   "metadata": {},
   "outputs": [],
   "source": [
    "df = pd.read_csv('Movies (2).csv')"
   ]
  },
  {
   "cell_type": "code",
   "execution_count": 5,
   "id": "72986b79-fda2-4613-b7b0-ab4f2fdb527a",
   "metadata": {},
   "outputs": [
    {
     "data": {
      "text/html": [
       "<div>\n",
       "<style scoped>\n",
       "    .dataframe tbody tr th:only-of-type {\n",
       "        vertical-align: middle;\n",
       "    }\n",
       "\n",
       "    .dataframe tbody tr th {\n",
       "        vertical-align: top;\n",
       "    }\n",
       "\n",
       "    .dataframe thead th {\n",
       "        text-align: right;\n",
       "    }\n",
       "</style>\n",
       "<table border=\"1\" class=\"dataframe\">\n",
       "  <thead>\n",
       "    <tr style=\"text-align: right;\">\n",
       "      <th></th>\n",
       "      <th>Unnamed: 0</th>\n",
       "      <th>id</th>\n",
       "      <th>genre_ids</th>\n",
       "      <th>title</th>\n",
       "      <th>overview</th>\n",
       "      <th>popularity</th>\n",
       "      <th>release_date</th>\n",
       "      <th>vote_average</th>\n",
       "      <th>vote_count</th>\n",
       "    </tr>\n",
       "  </thead>\n",
       "  <tbody>\n",
       "    <tr>\n",
       "      <th>0</th>\n",
       "      <td>0</td>\n",
       "      <td>238</td>\n",
       "      <td>[18, 80]</td>\n",
       "      <td>The Godfather</td>\n",
       "      <td>Spanning the years 1945 to 1955, a chronicle o...</td>\n",
       "      <td>119.438</td>\n",
       "      <td>1972-03-14</td>\n",
       "      <td>8.7</td>\n",
       "      <td>18448</td>\n",
       "    </tr>\n",
       "    <tr>\n",
       "      <th>1</th>\n",
       "      <td>1</td>\n",
       "      <td>278</td>\n",
       "      <td>[18, 80]</td>\n",
       "      <td>The Shawshank Redemption</td>\n",
       "      <td>Framed in the 1940s for the double murder of h...</td>\n",
       "      <td>90.415</td>\n",
       "      <td>1994-09-23</td>\n",
       "      <td>8.7</td>\n",
       "      <td>24376</td>\n",
       "    </tr>\n",
       "    <tr>\n",
       "      <th>2</th>\n",
       "      <td>2</td>\n",
       "      <td>240</td>\n",
       "      <td>[18, 80]</td>\n",
       "      <td>The Godfather Part II</td>\n",
       "      <td>In the continuing saga of the Corleone crime f...</td>\n",
       "      <td>70.637</td>\n",
       "      <td>1974-12-20</td>\n",
       "      <td>8.6</td>\n",
       "      <td>11144</td>\n",
       "    </tr>\n",
       "    <tr>\n",
       "      <th>3</th>\n",
       "      <td>3</td>\n",
       "      <td>424</td>\n",
       "      <td>[18, 36, 10752]</td>\n",
       "      <td>Schindler's List</td>\n",
       "      <td>The true story of how businessman Oskar Schind...</td>\n",
       "      <td>48.096</td>\n",
       "      <td>1993-12-15</td>\n",
       "      <td>8.6</td>\n",
       "      <td>14421</td>\n",
       "    </tr>\n",
       "    <tr>\n",
       "      <th>4</th>\n",
       "      <td>4</td>\n",
       "      <td>19404</td>\n",
       "      <td>[35, 18, 10749]</td>\n",
       "      <td>Dilwale Dulhania Le Jayenge</td>\n",
       "      <td>Raj is a rich, carefree, happy-go-lucky second...</td>\n",
       "      <td>26.588</td>\n",
       "      <td>1995-10-20</td>\n",
       "      <td>8.6</td>\n",
       "      <td>4225</td>\n",
       "    </tr>\n",
       "  </tbody>\n",
       "</table>\n",
       "</div>"
      ],
      "text/plain": [
       "   Unnamed: 0     id        genre_ids                        title  \\\n",
       "0           0    238         [18, 80]                The Godfather   \n",
       "1           1    278         [18, 80]     The Shawshank Redemption   \n",
       "2           2    240         [18, 80]        The Godfather Part II   \n",
       "3           3    424  [18, 36, 10752]             Schindler's List   \n",
       "4           4  19404  [35, 18, 10749]  Dilwale Dulhania Le Jayenge   \n",
       "\n",
       "                                            overview  popularity release_date  \\\n",
       "0  Spanning the years 1945 to 1955, a chronicle o...     119.438   1972-03-14   \n",
       "1  Framed in the 1940s for the double murder of h...      90.415   1994-09-23   \n",
       "2  In the continuing saga of the Corleone crime f...      70.637   1974-12-20   \n",
       "3  The true story of how businessman Oskar Schind...      48.096   1993-12-15   \n",
       "4  Raj is a rich, carefree, happy-go-lucky second...      26.588   1995-10-20   \n",
       "\n",
       "   vote_average  vote_count  \n",
       "0           8.7       18448  \n",
       "1           8.7       24376  \n",
       "2           8.6       11144  \n",
       "3           8.6       14421  \n",
       "4           8.6        4225  "
      ]
     },
     "execution_count": 5,
     "metadata": {},
     "output_type": "execute_result"
    }
   ],
   "source": [
    "df.head()"
   ]
  },
  {
   "cell_type": "code",
   "execution_count": 7,
   "id": "f243920a-0533-426c-86a1-73b94a4a32f0",
   "metadata": {},
   "outputs": [
    {
     "name": "stdout",
     "output_type": "stream",
     "text": [
      "<class 'pandas.core.frame.DataFrame'>\n",
      "RangeIndex: 10000 entries, 0 to 9999\n",
      "Data columns (total 9 columns):\n",
      " #   Column        Non-Null Count  Dtype  \n",
      "---  ------        --------------  -----  \n",
      " 0   Unnamed: 0    10000 non-null  int64  \n",
      " 1   id            10000 non-null  int64  \n",
      " 2   genre_ids     10000 non-null  object \n",
      " 3   title         10000 non-null  object \n",
      " 4   overview      9998 non-null   object \n",
      " 5   popularity    10000 non-null  float64\n",
      " 6   release_date  10000 non-null  object \n",
      " 7   vote_average  10000 non-null  float64\n",
      " 8   vote_count    10000 non-null  int64  \n",
      "dtypes: float64(2), int64(3), object(4)\n",
      "memory usage: 703.3+ KB\n"
     ]
    }
   ],
   "source": [
    "df.info()"
   ]
  },
  {
   "cell_type": "code",
   "execution_count": 9,
   "id": "954e018d-5062-48cd-9b81-0e336a9f1e60",
   "metadata": {},
   "outputs": [
    {
     "data": {
      "text/plain": [
       "Unnamed: 0      0\n",
       "id              0\n",
       "genre_ids       0\n",
       "title           0\n",
       "overview        2\n",
       "popularity      0\n",
       "release_date    0\n",
       "vote_average    0\n",
       "vote_count      0\n",
       "dtype: int64"
      ]
     },
     "execution_count": 9,
     "metadata": {},
     "output_type": "execute_result"
    }
   ],
   "source": [
    "df.isnull().sum()"
   ]
  },
  {
   "cell_type": "code",
   "execution_count": 11,
   "id": "7299ccf8-8507-4a4f-b116-d2d68b7e5173",
   "metadata": {},
   "outputs": [],
   "source": [
    "df_cleaned = df.dropna()"
   ]
  },
  {
   "cell_type": "code",
   "execution_count": 13,
   "id": "bfef5c2f-1880-4e9d-a123-529e86504654",
   "metadata": {},
   "outputs": [],
   "source": [
    "df_cleaned = df.dropna(axis=1)"
   ]
  },
  {
   "cell_type": "code",
   "execution_count": 23,
   "id": "e0dbd07e-883d-41e4-957b-4b31088c0153",
   "metadata": {},
   "outputs": [],
   "source": [
    "df['overview'].fillna('Unknown', inplace=True)"
   ]
  },
  {
   "cell_type": "code",
   "execution_count": 27,
   "id": "09becf2e-ab60-4336-9ea2-a204b246909c",
   "metadata": {},
   "outputs": [],
   "source": [
    "duplicates = df.duplicated()"
   ]
  },
  {
   "cell_type": "code",
   "execution_count": 29,
   "id": "135bfb78-aa6e-480a-85bb-49b2d721f12d",
   "metadata": {},
   "outputs": [],
   "source": [
    "df_cleaned = df.drop_duplicates()"
   ]
  },
  {
   "cell_type": "code",
   "execution_count": 31,
   "id": "73c35c43-80e4-4300-9803-0e711514682c",
   "metadata": {},
   "outputs": [],
   "source": [
    "df['release_date'] = pd.to_datetime(df['release_date'], errors='coerce')\n"
   ]
  },
  {
   "cell_type": "code",
   "execution_count": 35,
   "id": "a7e04131-d991-4035-9fdc-965befd47a26",
   "metadata": {},
   "outputs": [],
   "source": [
    "df['vote_count'] = pd.to_numeric(df['vote_count'], errors='coerce')"
   ]
  },
  {
   "cell_type": "code",
   "execution_count": 37,
   "id": "d9bf7659-a4c8-48d5-8846-1e9b9b71e813",
   "metadata": {},
   "outputs": [],
   "source": [
    "df['title'] = df['title'].str.lower()"
   ]
  },
  {
   "cell_type": "code",
   "execution_count": 39,
   "id": "3e598b4c-9569-466d-8589-2a8c6d23765f",
   "metadata": {},
   "outputs": [],
   "source": [
    "df['title'] = df['title'].str.strip()"
   ]
  },
  {
   "cell_type": "code",
   "execution_count": 46,
   "id": "d252287e-4c72-493b-8be9-a8c541c033f2",
   "metadata": {},
   "outputs": [
    {
     "name": "stdout",
     "output_type": "stream",
     "text": [
      "File saved to C:\\Users\\user\\Downloads\\Movies_cleaned.csv\n"
     ]
    }
   ],
   "source": [
    "import os\n",
    "\n",
    "# Construct the path to the Downloads folder\n",
    "downloads_path = os.path.join(os.path.expanduser(\"~\"), \"Downloads\", \"Movies_cleaned.csv\")\n",
    "\n",
    "# Save the cleaned dataframe to the Downloads folder\n",
    "df_cleaned.to_csv(downloads_path, index=False)\n",
    "\n",
    "print(f\"File saved to {downloads_path}\")\n"
   ]
  },
  {
   "cell_type": "code",
   "execution_count": 50,
   "id": "3f7ba65f-d2db-4107-817b-e520d5a1ccc3",
   "metadata": {},
   "outputs": [],
   "source": [
    "df['release_date'] = df['release_date'].astype(str)"
   ]
  },
  {
   "cell_type": "code",
   "execution_count": 52,
   "id": "6e19a499-2f4e-42a9-93df-043614df8e26",
   "metadata": {},
   "outputs": [],
   "source": [
    "df['release_date'] = df['release_date'].str.replace(r'[^0-9/-]', '', regex=True)"
   ]
  },
  {
   "cell_type": "code",
   "execution_count": 54,
   "id": "12df421a-0f13-4ccd-8ee0-bba279e270f2",
   "metadata": {},
   "outputs": [],
   "source": [
    "df['release_date'] = pd.to_datetime(df['release_date'], errors='coerce')"
   ]
  },
  {
   "cell_type": "code",
   "execution_count": 56,
   "id": "c23d70cb-412b-4b32-b212-4bd82a6c4cd2",
   "metadata": {},
   "outputs": [],
   "source": [
    "df_cleaned = df.dropna(subset=['release_date'])\n"
   ]
  },
  {
   "cell_type": "code",
   "execution_count": 58,
   "id": "54a3e540-fadd-4342-8dc8-5590e6ac6d76",
   "metadata": {},
   "outputs": [
    {
     "name": "stdout",
     "output_type": "stream",
     "text": [
      "0   1972-03-14\n",
      "1   1994-09-23\n",
      "2   1974-12-20\n",
      "3   1993-12-15\n",
      "4   1995-10-20\n",
      "Name: release_date, dtype: datetime64[ns]\n"
     ]
    }
   ],
   "source": [
    "print(df_cleaned['release_date'].head())"
   ]
  },
  {
   "cell_type": "code",
   "execution_count": 62,
   "id": "08a3cbce-a8b2-4dd4-90ca-ae58d9da8995",
   "metadata": {},
   "outputs": [
    {
     "name": "stdout",
     "output_type": "stream",
     "text": [
      "File saved to C:\\Users\\user\\Downloads\\Movies_cleaned.csv\n"
     ]
    }
   ],
   "source": [
    "import os\n",
    "\n",
    "# Construct the path to the Downloads folder\n",
    "downloads_path = os.path.join(os.path.expanduser(\"~\"), \"Downloads\", \"Movies_cleaned.csv\")\n",
    "\n",
    "# Save the cleaned dataframe to the Downloads folder\n",
    "df_cleaned.to_csv(downloads_path, index=False)\n",
    "\n",
    "print(f\"File saved to {downloads_path}\")"
   ]
  },
  {
   "cell_type": "code",
   "execution_count": 64,
   "id": "e6582e88-553f-4ae5-a72c-2837e8aaa453",
   "metadata": {},
   "outputs": [],
   "source": [
    "# Export the cleaned DataFrame and ensure Excel-readable formatting\n",
    "df.to_csv('Movies_cleaned.csv', index=False, date_format='%m/%d/%Y')  # Adjust the date format\n"
   ]
  },
  {
   "cell_type": "code",
   "execution_count": 66,
   "id": "c67f2061-93fa-4908-8740-eb1e806753e7",
   "metadata": {},
   "outputs": [
    {
     "name": "stdout",
     "output_type": "stream",
     "text": [
      "File saved to C:\\Users\\user\\Downloads\\Movies_cleaned.csv\n"
     ]
    }
   ],
   "source": [
    "import os\n",
    "\n",
    "# Construct the path to the Downloads folder\n",
    "downloads_path = os.path.join(os.path.expanduser(\"~\"), \"Downloads\", \"Movies_cleaned.csv\")\n",
    "\n",
    "# Save the cleaned dataframe to the Downloads folder\n",
    "df_cleaned.to_csv(downloads_path, index=False)\n",
    "\n",
    "print(f\"File saved to {downloads_path}\")"
   ]
  },
  {
   "cell_type": "code",
   "execution_count": null,
   "id": "ccc8f34f-27b2-4070-88e2-55b8b7693d45",
   "metadata": {},
   "outputs": [],
   "source": []
  }
 ],
 "metadata": {
  "kernelspec": {
   "display_name": "Python 3 (ipykernel)",
   "language": "python",
   "name": "python3"
  },
  "language_info": {
   "codemirror_mode": {
    "name": "ipython",
    "version": 3
   },
   "file_extension": ".py",
   "mimetype": "text/x-python",
   "name": "python",
   "nbconvert_exporter": "python",
   "pygments_lexer": "ipython3",
   "version": "3.12.4"
  }
 },
 "nbformat": 4,
 "nbformat_minor": 5
}
